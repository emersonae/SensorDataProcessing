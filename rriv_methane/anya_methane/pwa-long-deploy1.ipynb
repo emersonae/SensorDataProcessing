{
 "cells": [
  {
   "cell_type": "code",
   "execution_count": 1,
   "id": "5d8279ca-e613-4a28-a0b2-5c3d753c1357",
   "metadata": {},
   "outputs": [
    {
     "data": {
      "text/html": [
       "'/Users/anyaemerson/Documents/github/emersonae/SensorDataProcessing/rriv_methane/anya_methane'"
      ],
      "text/latex": [
       "'/Users/anyaemerson/Documents/github/emersonae/SensorDataProcessing/rriv\\_methane/anya\\_methane'"
      ],
      "text/markdown": [
       "'/Users/anyaemerson/Documents/github/emersonae/SensorDataProcessing/rriv_methane/anya_methane'"
      ],
      "text/plain": [
       "[1] \"/Users/anyaemerson/Documents/github/emersonae/SensorDataProcessing/rriv_methane/anya_methane\""
      ]
     },
     "metadata": {},
     "output_type": "display_data"
    }
   ],
   "source": [
    "# is this the folder with the script in it?\n",
    "scriptDir<-getwd()\n",
    "scriptDir\n",
    "\n",
    "# if not, uncomment and use this instead\n",
    "# scriptDir<-\"\""
   ]
  },
  {
   "cell_type": "code",
   "execution_count": 2,
   "id": "39308d47-c6f8-42c4-ba51-602dfcec9b24",
   "metadata": {},
   "outputs": [
    {
     "data": {
      "text/html": [
       "'/Users/anyaemerson/Documents/github/emersonae/SensorDataProcessing/rriv_methane/anya_methane/methane_functions.r'"
      ],
      "text/latex": [
       "'/Users/anyaemerson/Documents/github/emersonae/SensorDataProcessing/rriv\\_methane/anya\\_methane/methane\\_functions.r'"
      ],
      "text/markdown": [
       "'/Users/anyaemerson/Documents/github/emersonae/SensorDataProcessing/rriv_methane/anya_methane/methane_functions.r'"
      ],
      "text/plain": [
       "[1] \"/Users/anyaemerson/Documents/github/emersonae/SensorDataProcessing/rriv_methane/anya_methane/methane_functions.r\""
      ]
     },
     "metadata": {},
     "output_type": "display_data"
    }
   ],
   "source": [
    "methaneFunctions<-paste(scriptDir,\"/methane_functions.r\",sep=\"\")\n",
    "methaneFunctions\n",
    "if (file.exists(methaneFunctions)){\n",
    "    source(methaneFunctions)\n",
    "} else {\n",
    "    print(\"manually correct the location and/or name of methane_functions.r\")\n",
    "}"
   ]
  },
  {
   "cell_type": "code",
   "execution_count": 3,
   "id": "55e727d4-a0a8-43a9-ae3f-0df20a7f7f56",
   "metadata": {
    "collapsed": true,
    "jupyter": {
     "outputs_hidden": true
    },
    "tags": []
   },
   "outputs": [
    {
     "name": "stderr",
     "output_type": "stream",
     "text": [
      "── \u001b[1mAttaching core tidyverse packages\u001b[22m ──────────────────────── tidyverse 2.0.0 ──\n",
      "\u001b[32m✔\u001b[39m \u001b[34mdplyr    \u001b[39m 1.1.2     \u001b[32m✔\u001b[39m \u001b[34mreadr    \u001b[39m 2.1.4\n",
      "\u001b[32m✔\u001b[39m \u001b[34mforcats  \u001b[39m 1.0.0     \u001b[32m✔\u001b[39m \u001b[34mstringr  \u001b[39m 1.5.0\n",
      "\u001b[32m✔\u001b[39m \u001b[34mggplot2  \u001b[39m 3.4.2     \u001b[32m✔\u001b[39m \u001b[34mtibble   \u001b[39m 3.2.1\n",
      "\u001b[32m✔\u001b[39m \u001b[34mlubridate\u001b[39m 1.9.2     \u001b[32m✔\u001b[39m \u001b[34mtidyr    \u001b[39m 1.3.0\n",
      "\u001b[32m✔\u001b[39m \u001b[34mpurrr    \u001b[39m 1.0.1     \n",
      "── \u001b[1mConflicts\u001b[22m ────────────────────────────────────────── tidyverse_conflicts() ──\n",
      "\u001b[31m✖\u001b[39m \u001b[34mdplyr\u001b[39m::\u001b[32mfilter()\u001b[39m masks \u001b[34mstats\u001b[39m::filter()\n",
      "\u001b[31m✖\u001b[39m \u001b[34mdplyr\u001b[39m::\u001b[32mlag()\u001b[39m    masks \u001b[34mstats\u001b[39m::lag()\n",
      "\u001b[36mℹ\u001b[39m Use the conflicted package (\u001b[3m\u001b[34m<http://conflicted.r-lib.org/>\u001b[39m\u001b[23m) to force all conflicts to become errors\n",
      "\n",
      "Attaching package: ‘doBy’\n",
      "\n",
      "\n",
      "The following object is masked from ‘package:dplyr’:\n",
      "\n",
      "    order_by\n",
      "\n",
      "\n",
      "\n",
      "Attaching package: ‘Hmisc’\n",
      "\n",
      "\n",
      "The following objects are masked from ‘package:dplyr’:\n",
      "\n",
      "    src, summarize\n",
      "\n",
      "\n",
      "The following objects are masked from ‘package:base’:\n",
      "\n",
      "    format.pval, units\n",
      "\n",
      "\n",
      "\n",
      "Attaching package: ‘zoo’\n",
      "\n",
      "\n",
      "The following objects are masked from ‘package:base’:\n",
      "\n",
      "    as.Date, as.Date.numeric\n",
      "\n",
      "\n",
      "Loading required package: viridisLite\n",
      "\n",
      "Loading required package: splines\n",
      "\n",
      "Loading required package: foreach\n",
      "\n",
      "\n",
      "Attaching package: ‘foreach’\n",
      "\n",
      "\n",
      "The following objects are masked from ‘package:purrr’:\n",
      "\n",
      "    accumulate, when\n",
      "\n",
      "\n",
      "Loaded gam 1.22-2\n",
      "\n",
      "\n",
      "\n",
      "Attaching package: ‘reshape2’\n",
      "\n",
      "\n",
      "The following object is masked from ‘package:tidyr’:\n",
      "\n",
      "    smiths\n",
      "\n",
      "\n",
      "Loading required package: nlme\n",
      "\n",
      "\n",
      "Attaching package: ‘nlme’\n",
      "\n",
      "\n",
      "The following object is masked from ‘package:dplyr’:\n",
      "\n",
      "    collapse\n",
      "\n",
      "\n",
      "This is mgcv 1.8-42. For overview type 'help(\"mgcv-package\")'.\n",
      "\n",
      "\n",
      "Attaching package: ‘mgcv’\n",
      "\n",
      "\n",
      "The following objects are masked from ‘package:gam’:\n",
      "\n",
      "    gam, gam.control, gam.fit, s\n",
      "\n",
      "\n"
     ]
    }
   ],
   "source": [
    "# Package names\n",
    "packages <- c(\"tidyverse\",\"dplyr\", \"doBy\", \"lubridate\", \"ggplot2\", \"Hmisc\", \"zoo\", \"viridis\", \"gam\", \"ggeffects\", \"reshape2\", \"mgcv\")\n",
    "packageHandler(packages)"
   ]
  },
  {
   "cell_type": "code",
   "execution_count": 9,
   "id": "f754fbd7-e172-4609-87a0-fc48497f33d8",
   "metadata": {},
   "outputs": [],
   "source": [
    "dir_wb1<-\"~/Library/Mobile\\ Documents/com~apple~CloudDocs/Documents/RRIV/Data/field/PWA/20230717/B1/WB\"\n",
    "dir_ap1<-\"~/Library/Mobile\\ Documents/com~apple~CloudDocs/Documents/RRIV/Data/field/PWA/20230717/B1/AP\"\n",
    "dir_wb2<-\"~/Library/Mobile\\ Documents/com~apple~CloudDocs/Documents/RRIV/Data/field/PWA/20230717/B2/WB\"\n",
    "dir_ap2<-\"~/Library/Mobile\\ Documents/com~apple~CloudDocs/Documents/RRIV/Data/field/PWA/20230717/B2/AP\"\n",
    "dir_wb3<-\"~/Library/Mobile\\ Documents/com~apple~CloudDocs/Documents/RRIV/Data/field/PWA/20230717/B3/WB\"\n",
    "dir_ap3<-\"~/Library/Mobile\\ Documents/com~apple~CloudDocs/Documents/RRIV/Data/field/PWA/20230717/B3/AP\"\n",
    "dir_do1<-\"~/Library/Mobile\\ Documents/com~apple~CloudDocs/Documents/RRIV/Data/field/PWA/20230717/DO1\"\n",
    "dir_do2<-\"~/Library/Mobile\\ Documents/com~apple~CloudDocs/Documents/RRIV/Data/field/PWA/20230717/DO2\"\n",
    "dir_s1<-\"~/Library/Mobile\\ Documents/com~apple~CloudDocs/Documents/RRIV/Data/field/PWA/20230717/S1\""
   ]
  },
  {
   "cell_type": "code",
   "execution_count": 8,
   "id": "68c81c32-0e55-4668-b7f4-ce3acda261bc",
   "metadata": {},
   "outputs": [
    {
     "name": "stdout",
     "output_type": "stream",
     "text": [
      "Output directory not found, creating: ~/Library/Mobile Documents/com~apple~CloudDocs/Documents/RRIV/Data/field/PWA/20230717/output\n"
     ]
    }
   ],
   "source": [
    "# create output directory path based on input directory\n",
    "# outputDir<-paste0(directory3,\"_output\")\n",
    "outputDir<-\"~/Library/Mobile\\ Documents/com~apple~CloudDocs/Documents/RRIV/Data/field/PWA/20230717/output\"\n",
    "# create the output directory if necessary\n",
    "newDir(dirPath = outputDir)"
   ]
  },
  {
   "cell_type": "code",
   "execution_count": 6,
   "id": "786ea436-f14b-4505-b30d-58ce4c5067f3",
   "metadata": {},
   "outputs": [],
   "source": [
    "# directory for github \n",
    "gitDir<-\"~/Library/Mobile\\ Documents/com~apple~CloudDocs/Documents/github/emersonae/SensorDataProcessing/rriv_methane/anya_methane/figures\"\n"
   ]
  }
 ],
 "metadata": {
  "kernelspec": {
   "display_name": "R",
   "language": "R",
   "name": "ir"
  },
  "language_info": {
   "codemirror_mode": "r",
   "file_extension": ".r",
   "mimetype": "text/x-r-source",
   "name": "R",
   "pygments_lexer": "r",
   "version": "4.3.0"
  }
 },
 "nbformat": 4,
 "nbformat_minor": 5
}
