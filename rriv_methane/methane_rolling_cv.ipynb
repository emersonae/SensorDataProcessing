{
 "cells": [
  {
   "cell_type": "markdown",
   "id": "d69db3b6",
   "metadata": {},
   "source": [
    "# script for processing rolling cv"
   ]
  },
  {
   "cell_type": "markdown",
   "id": "1ac0a56c",
   "metadata": {},
   "source": [
    "# Runs the file containing general functions used in this script\n",
    "## By default this is a file called \"methane_functions.r\" in the working directory of this script\n",
    "## Do NOT change the working directory at any point while using this script."
   ]
  },
  {
   "cell_type": "code",
   "execution_count": null,
   "id": "0ccb9a83",
   "metadata": {},
   "outputs": [],
   "source": [
    "methaneFunctions<-paste(getwd(),\"/methane_functions.r\",sep=\"\")\n",
    "methaneFunctions\n",
    "if (file.exists(methaneFunctions)){\n",
    "    source(methaneFunctions)\n",
    "} else {\n",
    "    print(\"manually correct the location and/or name of methane_functions.r\")\n",
    "}"
   ]
  },
  {
   "cell_type": "markdown",
   "id": "91da0551",
   "metadata": {},
   "source": [
    "# 0. Load packages used"
   ]
  },
  {
   "cell_type": "code",
   "execution_count": null,
   "id": "4edb2f82",
   "metadata": {},
   "outputs": [],
   "source": [
    "# # Package names\n",
    "# packages<-c(\"dplyr\", \"lubridate\", \"ggplot2\", \"ggpubr\")\n",
    "# packageHandler(packages)"
   ]
  },
  {
   "cell_type": "markdown",
   "id": "586484d7",
   "metadata": {},
   "source": [
    "## Function to calculate rolling CV for warm-up detection\n",
    "Starting with using the summary data for calculations"
   ]
  },
  {
   "cell_type": "code",
   "execution_count": null,
   "id": "8797b8de",
   "metadata": {},
   "outputs": [],
   "source": [
    "calculateCV<-function(processed_data, dataType, lc=loggerCount, ll=loggerList){\n",
    "    temp_cv<-data.frame()\n",
    "    calculated_cv_list<-vector(\"list\", lc)\n",
    "    for(i in 1:lc){\n",
    "        df<-subset(processed_data, logger==ll[i] & type==dataType)\n",
    "\n",
    "        measurementCycles<-unique(df$measurementCycle)\n",
    "        for(i in 1:length(measurementCycles)){\n",
    "            temp<-subset(df,measurementCycle==measurementCycles[i])\n",
    "            temp$roll_mean<-rollapply(data=temp$ch4_raw,width=4,align=c(\"right\"),FUN=mean,fill=NA)\n",
    "            temp$roll_sd<-rollapply(data=temp$ch4_raw,width=4,align=c(\"right\"),FUN=sd,fill=NA)\n",
    "            temp$roll_cv<-temp$roll_sd/temp$roll_mean #optionally multiply by 100 for %\n",
    "            temp_cv<-bind_rows(temp_cv,temp)\n",
    "        }\n",
    "        calculated_cv_list[[i]]<-temp_cv\n",
    "    }\n",
    "    return(bind_rows(calculated_cv_list))\n",
    "}"
   ]
  },
  {
   "cell_type": "markdown",
   "id": "c7a3db67",
   "metadata": {},
   "source": [
    "## Function to create basic plots of burst vs raw methane reading colored by measurement cycle"
   ]
  },
  {
   "cell_type": "code",
   "execution_count": null,
   "id": "24e86cf1",
   "metadata": {},
   "outputs": [],
   "source": [
    "cycleVsCH4_plots<-function(processed_data, dataType, lc=loggerCount, ll=loggerList){\n",
    "    plots<-vector(\"list\", lc)\n",
    "    names(plots)<-ll\n",
    "    for(i in 1:lc){\n",
    "        data<-subset(processed_data, logger==ll[i] & type==dataType)\n",
    "\n",
    "        plots[[i]]<-ggplot(data, aes(burstCycle, ch4_raw))+\n",
    "            geom_point(aes(color=measurementCycle))+scale_color_viridis()+\n",
    "            ggtitle(paste(\"Logger: \", ll[i], \"\\nData type: \", dataType))\n",
    "    }\n",
    "    return(plots)\n",
    "}"
   ]
  },
  {
   "cell_type": "markdown",
   "id": "ef629b40",
   "metadata": {},
   "source": [
    "## Function to plot rolling cv vs burst cycle and colored by measurement cycle"
   ]
  },
  {
   "cell_type": "code",
   "execution_count": null,
   "id": "4633bd04",
   "metadata": {},
   "outputs": [],
   "source": [
    "rollCV_plots<-function(parseDataCV, ll=loggerList, lc=loggerCount){\n",
    "    plots<-vector(\"list\", lc)\n",
    "    names(plots)<-ll\n",
    "    for(i in 1:lc){\n",
    "        data<-subset(parseDataCV, logger==ll[i])\n",
    "        plots[[i]]<-ggplot(data, aes(burstCycle, roll_cv))+\n",
    "        geom_point(aes(color=as.integer(measurementCycle)))+\n",
    "        scale_y_log10()+scale_color_viridis()+\n",
    "        ggtitle(paste(\"Rolling CV for Logger: \",ll[i]))\n",
    "    }\n",
    "    return(plots)\n",
    "}"
   ]
  },
  {
   "cell_type": "markdown",
   "id": "90c82cc1",
   "metadata": {},
   "source": [
    "## Function to calculate the mean of rolling cv above provided burst for each measurement cycle to determine target cv for methane driver"
   ]
  },
  {
   "cell_type": "code",
   "execution_count": null,
   "id": "aa94fc45",
   "metadata": {},
   "outputs": [],
   "source": [
    "mean_cv_burst<-function(parseDataCV, burstCycleStart, ll=loggerList, lc=loggerCount){\n",
    "    mean_na<-function(x){mean(x,na.rm=TRUE)}\n",
    "    \n",
    "    temp_mean<-vector(\"list\", lc)\n",
    "    for(i in 1:lc){\n",
    "        df<-subset(parseDataCV, logger==ll[i] & as.integer(burstCycle)>=burstCycleStart)\n",
    "        \n",
    "        if(max(df$measurementCycle) > 2){\n",
    "            temp_mean[[i]]<-summaryBy(roll_cv~measurementCycle,df,FUN=c(mean_na))\n",
    "            temp_mean[[i]]$logger<-unique(df$logger)\n",
    "            temp_mean[[i]]$deployed_at<-lubridate::as_datetime(unique(df$deployed_at))\n",
    "        }\n",
    "    }\n",
    "    return(bind_rows(temp_mean))\n",
    "}"
   ]
  },
  {
   "cell_type": "code",
   "execution_count": null,
   "id": "76b38b2b",
   "metadata": {},
   "outputs": [],
   "source": []
  },
  {
   "cell_type": "code",
   "execution_count": null,
   "id": "426ae902",
   "metadata": {},
   "outputs": [],
   "source": []
  },
  {
   "cell_type": "code",
   "execution_count": null,
   "id": "4c6f8c9d",
   "metadata": {},
   "outputs": [],
   "source": []
  },
  {
   "cell_type": "code",
   "execution_count": null,
   "id": "d1bba646",
   "metadata": {},
   "outputs": [],
   "source": []
  },
  {
   "cell_type": "code",
   "execution_count": null,
   "id": "0569b989",
   "metadata": {},
   "outputs": [],
   "source": []
  },
  {
   "cell_type": "code",
   "execution_count": null,
   "id": "9b711d93",
   "metadata": {},
   "outputs": [],
   "source": []
  },
  {
   "cell_type": "code",
   "execution_count": null,
   "id": "dccf7310",
   "metadata": {},
   "outputs": [],
   "source": []
  },
  {
   "cell_type": "code",
   "execution_count": null,
   "id": "5869b575",
   "metadata": {},
   "outputs": [],
   "source": []
  },
  {
   "cell_type": "markdown",
   "id": "d9f2966c",
   "metadata": {},
   "source": [
    "# RUN"
   ]
  },
  {
   "cell_type": "markdown",
   "id": "17cdc4ec",
   "metadata": {},
   "source": [
    "# TODO: need the lines for initial concatenation of data in relevant directory"
   ]
  },
  {
   "cell_type": "code",
   "execution_count": null,
   "id": "d85d8c37",
   "metadata": {},
   "outputs": [],
   "source": []
  },
  {
   "cell_type": "markdown",
   "id": "068ce03a",
   "metadata": {},
   "source": [
    "### Create plots of raw data and summary data and save them"
   ]
  },
  {
   "cell_type": "code",
   "execution_count": null,
   "id": "ce5d05ca",
   "metadata": {},
   "outputs": [],
   "source": [
    "raw_cycleVsCH4_plots<-cycleVsCH4_plots(processed_data, \"raw\")\n",
    "summary_cycleVsCH4_plots<-cycleVsCH4_plots(processed_data, \"summary\")\n",
    "\n",
    "savePlotList(raw_cycleVsCH4_plots, \"raw_cycleVsCH4_\")\n",
    "savePlotList(summary_cycleVsCH4_plots, \"summary_cycleVsCH4_\")"
   ]
  },
  {
   "cell_type": "markdown",
   "id": "cb2b3796",
   "metadata": {},
   "source": [
    "## calculate the mean cv of each burst and save it"
   ]
  },
  {
   "cell_type": "code",
   "execution_count": null,
   "id": "0373a60e",
   "metadata": {},
   "outputs": [],
   "source": [
    "meanCVburst<-mean_cv_burst(parseSummaryDataCV, 20)\n",
    "\n",
    "saveDFrds(meanCVburst)\n",
    "saveDFcsv(meanCVburst)"
   ]
  },
  {
   "cell_type": "markdown",
   "id": "c0898d32",
   "metadata": {},
   "source": [
    "### Print results"
   ]
  },
  {
   "cell_type": "code",
   "execution_count": null,
   "id": "7ce9adc1",
   "metadata": {},
   "outputs": [],
   "source": [
    "for(i in 1:length(loggerList)){\n",
    "    print(loggerList[i])\n",
    "    print(subset(meanCVburst, logger==loggerList[i]))\n",
    "}"
   ]
  },
  {
   "cell_type": "markdown",
   "id": "6264e11b",
   "metadata": {},
   "source": [
    "### Use this ^ data to decide a CV limit indicating when sensor has been sufficiently warmed\n",
    "### Function to go through each logger and each measurement cycle and save the first instance where CV limit has been reached to an output dataframe"
   ]
  },
  {
   "cell_type": "code",
   "execution_count": null,
   "id": "84d10419",
   "metadata": {},
   "outputs": [],
   "source": [
    "# first instance of CV lower than 0.01 for each measurementCycle indicates a good reading\n",
    "# readings before that are not warmed up, readings after that are good but consume too much power\n",
    "# Ideally we want 1 value (1 summary line and/or 10 raw lines from burst) per measurement cycle\n",
    "\n",
    "# for each logger, for each measurement cycle, save 1 line to new dataframe\n",
    "manualCVlimit<-function(parseSummaryDataCV, manualCV, ll=loggerList, lc=loggerCount){\n",
    "    # TODO: first row is populated with NAs\n",
    "    outputDF<-data.frame(matrix(ncol=length(parseSummaryDataCV), nrow=0))\n",
    "    colnames(outputDF)<-names(parseSummaryDataCV)\n",
    "\n",
    "    for(i in 1:lc){\n",
    "        oneLogger<-subset(parseSummaryDataCV, logger==ll[i])\n",
    "\n",
    "        measurementCycles<-length(unique(oneLogger$measurementCycle))\n",
    "\n",
    "        for(j in 1:measurementCycles){\n",
    "            oneCycle<-subset(oneLogger, measurementCycle==j)\n",
    "            \n",
    "            #save the first instance where the rolling cv has reached the desired limit\n",
    "            # TODO: save line with the lowest CV reached if has not reached the desired limit\n",
    "            # errors not an issue currently: reporting warnings where CV not calculated or mostly NA values\n",
    "            rowFound<-min(which(oneCycle$roll_cv<manualCV), na.rm=TRUE)\n",
    "            if(!is.integer(rowFound)){\n",
    "                print(sprintf(\"cv limit not reached for logger:%s measurementCycle:%d\", ll[i], j))\n",
    "                print(sprintf(\"lowest cv is: %f\", min(oneCycle$roll_cv, na.rm=TRUE)))\n",
    "            }else{\n",
    "                outputDF<-rbind(outputDF,oneCycle[rowFound,])\n",
    "            }\n",
    "        }\n",
    "    }\n",
    "    outputDF<-process_columns(outputDF)\n",
    "    # either sort the categorical factor burst cycles or change them to numeric here:\n",
    "    outputDF$burstCycle<-as.numeric(outputDF$burstCycle)\n",
    "    return(outputDF)\n",
    "}"
   ]
  },
  {
   "cell_type": "markdown",
   "id": "06632351",
   "metadata": {},
   "source": [
    "### Subset good data and save it to rds and csv"
   ]
  },
  {
   "cell_type": "code",
   "execution_count": null,
   "id": "fb15b0f8",
   "metadata": {},
   "outputs": [],
   "source": [
    "summary_manualCVdata<-manualCVlimit(parseSummaryDataCV, 0.01)\n",
    "# outputDF$measurementCycle<-as.numeric(outputDF$measurementCycle)\n",
    "\n",
    "saveDFrds(summary_manualCVdata)\n",
    "saveDFcsv(summary_manualCVdata)\n",
    "\n",
    "#TODO: mean burstCycle(how many minutes it took to warm up) & standard error, and actual cv value"
   ]
  },
  {
   "cell_type": "code",
   "execution_count": null,
   "id": "f3d75315",
   "metadata": {},
   "outputs": [],
   "source": [
    "loggerPlots<-plot_Data_v_Time(summary_manualCVdata, \"site\")\n",
    "loggerPlots\n",
    "\n",
    "savePlotList(loggerPlots, \"sp_manualCV_\")"
   ]
  },
  {
   "cell_type": "code",
   "execution_count": null,
   "id": "f276a0b3",
   "metadata": {},
   "outputs": [],
   "source": [
    "individualPlots<-plot_individual_logger_data_v_time(summary_manualCVdata)\n",
    "\n",
    "individualPlots\n",
    "\n",
    "savePlotListList(individualPlots, \"ip_manualCV_\")"
   ]
  }
 ],
 "metadata": {
  "kernelspec": {
   "display_name": "R",
   "language": "R",
   "name": "ir"
  },
  "language_info": {
   "codemirror_mode": "r",
   "file_extension": ".r",
   "mimetype": "text/x-r-source",
   "name": "R",
   "pygments_lexer": "r",
   "version": "4.1.2"
  }
 },
 "nbformat": 4,
 "nbformat_minor": 5
}
