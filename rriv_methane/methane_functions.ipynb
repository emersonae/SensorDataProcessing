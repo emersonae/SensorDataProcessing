{
 "cells": [
  {
   "cell_type": "markdown",
   "id": "2c7fd2d8",
   "metadata": {},
   "source": [
    "# Functions used in multiple files to be run with source()\n",
    "Note that these functions currently lack basic error checking and error messages (TODO)"
   ]
  },
  {
   "cell_type": "code",
   "execution_count": null,
   "id": "71883d5e",
   "metadata": {},
   "outputs": [],
   "source": [
    "# Functions used in multiple files to be run with source()\n",
    "## Note that these functions currently lack basic error checking and error messages (TODO)"
   ]
  },
  {
   "cell_type": "markdown",
   "id": "5783e305",
   "metadata": {},
   "source": [
    "## Clear session memory"
   ]
  },
  {
   "cell_type": "code",
   "execution_count": null,
   "id": "7068e2cb",
   "metadata": {},
   "outputs": [],
   "source": [
    "## Clear session memory\n",
    "clearMemory<-function(){\n",
    "    rm(list = ls()) # clear R working memory\n",
    "    graphics.off() # close any open plots\n",
    "}"
   ]
  },
  {
   "cell_type": "markdown",
   "id": "151d5f31",
   "metadata": {},
   "source": [
    "## Take a list of packages, install them to the local library, if necessary, and then load them all"
   ]
  },
  {
   "cell_type": "code",
   "execution_count": 2,
   "id": "87370757",
   "metadata": {},
   "outputs": [],
   "source": [
    "## Take a list of packages, install them to the local library, if necessary, and then load them all\n",
    "packageHandler<-function(packageList=packages){\n",
    "    # Install packages if necessary\n",
    "    installed_packages <- packages %in% rownames(installed.packages())\n",
    "    if (any(installed_packages == FALSE)) {\n",
    "      install.packages(packages[!installed_packages])\n",
    "    }\n",
    "\n",
    "    # Load packages\n",
    "    invisible(lapply(packages, library, character.only = TRUE))\n",
    "}"
   ]
  },
  {
   "cell_type": "code",
   "execution_count": 3,
   "id": "bfa9ffeb",
   "metadata": {},
   "outputs": [
    {
     "name": "stderr",
     "output_type": "stream",
     "text": [
      "\n",
      "Attaching package: ‘dplyr’\n",
      "\n",
      "\n",
      "The following objects are masked from ‘package:stats’:\n",
      "\n",
      "    filter, lag\n",
      "\n",
      "\n",
      "The following objects are masked from ‘package:base’:\n",
      "\n",
      "    intersect, setdiff, setequal, union\n",
      "\n",
      "\n",
      "\n",
      "Attaching package: ‘doBy’\n",
      "\n",
      "\n",
      "The following object is masked from ‘package:dplyr’:\n",
      "\n",
      "    order_by\n",
      "\n",
      "\n",
      "\n",
      "Attaching package: ‘lubridate’\n",
      "\n",
      "\n",
      "The following objects are masked from ‘package:base’:\n",
      "\n",
      "    date, intersect, setdiff, union\n",
      "\n",
      "\n",
      "Loading required package: lattice\n",
      "\n",
      "Loading required package: survival\n",
      "\n",
      "Loading required package: Formula\n",
      "\n",
      "\n",
      "Attaching package: ‘Hmisc’\n",
      "\n",
      "\n",
      "The following objects are masked from ‘package:dplyr’:\n",
      "\n",
      "    src, summarize\n",
      "\n",
      "\n",
      "The following objects are masked from ‘package:base’:\n",
      "\n",
      "    format.pval, units\n",
      "\n",
      "\n",
      "\n",
      "Attaching package: ‘zoo’\n",
      "\n",
      "\n",
      "The following objects are masked from ‘package:base’:\n",
      "\n",
      "    as.Date, as.Date.numeric\n",
      "\n",
      "\n",
      "Loading required package: viridisLite\n",
      "\n"
     ]
    }
   ],
   "source": [
    "# # # Package names\n",
    "# packages <- c(\"dplyr\", \"doBy\", \"lubridate\", \"ggplot2\", \"Hmisc\", \"zoo\", \"viridis\", \"rmarkdown\")\n",
    "# packageHandler(packages)"
   ]
  },
  {
   "cell_type": "code",
   "execution_count": 4,
   "id": "41702152",
   "metadata": {},
   "outputs": [],
   "source": [
    "# input<-\"~/Documents/github/SensorDataProcessing/rriv_methane/methane_functions.ipynb\"\n",
    "# convert_ipynb(input)"
   ]
  },
  {
   "cell_type": "markdown",
   "id": "bfa5c601",
   "metadata": {},
   "source": [
    "# 1. File management"
   ]
  },
  {
   "cell_type": "code",
   "execution_count": null,
   "id": "f697006c",
   "metadata": {},
   "outputs": [],
   "source": [
    "# 1. File management"
   ]
  },
  {
   "cell_type": "markdown",
   "id": "3e872236",
   "metadata": {},
   "source": [
    "## Delete a file if it exists"
   ]
  },
  {
   "cell_type": "code",
   "execution_count": 11,
   "id": "1eb93b48",
   "metadata": {},
   "outputs": [],
   "source": [
    "# check if file at path exists, delete if it does\n",
    "# will only call in functions that generate new files\n",
    "cleanFile<-function(path){\n",
    "  if(file.exists(path)){\n",
    "    cat(sprintf(\"Deleting old file: %s\\n\",path))\n",
    "    file.remove(path)\n",
    "  }\n",
    "}"
   ]
  },
  {
   "cell_type": "markdown",
   "id": "670e1a3d",
   "metadata": {},
   "source": [
    "## Create a new directory if it does not exist"
   ]
  },
  {
   "cell_type": "code",
   "execution_count": 12,
   "id": "e6ce1bb3",
   "metadata": {},
   "outputs": [],
   "source": [
    "# check if directory exists, create if not\n",
    "newDir<-function(dirPath){\n",
    "  if(dir.exists(dirPath)){\n",
    "    cat(sprintf(\"Output directory, %s, already exists\\n\", dirPath))\n",
    "  }\n",
    "  else{\n",
    "    cat(sprintf(\"Output directory not found, creating: %s\\n\",dirPath))\n",
    "    dir.create(dirPath)\n",
    "  }\n",
    "}"
   ]
  },
  {
   "cell_type": "markdown",
   "id": "a4f3977b",
   "metadata": {},
   "source": [
    "## Save a list of plots to an output directory"
   ]
  },
  {
   "cell_type": "code",
   "execution_count": 13,
   "id": "3aac038d",
   "metadata": {},
   "outputs": [],
   "source": [
    "#input list of plots, output directory, custom directory path or tag\n",
    "#output save each plot to output directory\n",
    "#800 is a little over 5\" on my screen at 1920x1080\n",
    "savePlotList<-function(plotList, tag=\"\", width=800, height=800, od=outputDir){\n",
    "    plots<-names(plotList)\n",
    "    for(i in 1:length(plots)){\n",
    "        pngPath = paste(sep=\"\", od, tag, plots[i], \".png\")\n",
    "        png(file=pngPath, width=width, height=height)\n",
    "        print(plotList[[ plots[i] ]])\n",
    "        dev.off()\n",
    "    }\n",
    "}"
   ]
  },
  {
   "cell_type": "markdown",
   "id": "f40e5dcf",
   "metadata": {},
   "source": [
    "## Save a list of list of plots to an output directory"
   ]
  },
  {
   "cell_type": "code",
   "execution_count": 14,
   "id": "d981e06c",
   "metadata": {},
   "outputs": [],
   "source": [
    "# Save a list of list of plots to an output directory\n",
    "savePlotListList<-function(pll, tag=\"\", width=800, height=800, od=outputDir){\n",
    "    for(i in 1:length(pll)){\n",
    "        savePlotList(pll[[i]], od, tag=paste(tag,names(pll[i]),\"_\",sep=\"\"), width=width, height=height)\n",
    "    }\n",
    "}"
   ]
  },
  {
   "cell_type": "markdown",
   "id": "145d8703",
   "metadata": {},
   "source": [
    "## Save a dataframe as an rds file to a specified directory\n",
    "filename is : dataframeName_{user input string}\n",
    "TODO: what if tag is left as \"\"?"
   ]
  },
  {
   "cell_type": "code",
   "execution_count": 15,
   "id": "2a117586",
   "metadata": {},
   "outputs": [],
   "source": [
    "## Save a dataframe as an rds file to a specified directory\n",
    "# filename is : dataframeName_{user input string}\n",
    "# TODO: what if tag is left as \"\"?\n",
    "saveDFrds<-function(inputDF, tag=\"\", od=outputDir){\n",
    "    dfName<-substitute(inputDF)\n",
    "    outputPath<-paste(od,dfName,\"_\",tag,\".rds\",sep=\"\")\n",
    "    print(outputPath)\n",
    "    saveRDS(inputDF, outputPath)\n",
    "}"
   ]
  },
  {
   "cell_type": "markdown",
   "id": "1fa68f84",
   "metadata": {},
   "source": [
    "## Save a dataframe as a csv file to a specified directory"
   ]
  },
  {
   "cell_type": "code",
   "execution_count": 16,
   "id": "39df04db",
   "metadata": {},
   "outputs": [],
   "source": [
    "## Save a dataframe as a csv file to a specified directory\n",
    "saveDFcsv<-function(inputDF, tag=\"\", od=outputDir){\n",
    "    dfName<-substitute(inputDF)\n",
    "    outputPath<-paste(od,dfName,\"_\",tag,\".csv\",sep=\"\")\n",
    "    print(outputPath)\n",
    "    write.csv(inputDF, outputPath)\n",
    "}"
   ]
  },
  {
   "cell_type": "markdown",
   "id": "0495f80e",
   "metadata": {},
   "source": [
    "## Custom readCSV function for RRIV data"
   ]
  },
  {
   "cell_type": "code",
   "execution_count": 17,
   "id": "b0503c58",
   "metadata": {},
   "outputs": [],
   "source": [
    "## Custom readCSV function for RRIV data\n",
    "# define custom call to read.csv\n",
    "# RRIV data has a \"type\" column which contains \"debug\" lines which can be removed for processing data\n",
    "# some files have lines with issues that offest the data,\n",
    "# which can be seen by checking if there is a logger value present, and removing if not\n",
    "read_rriv_CSV<-function(filePath){\n",
    "    fileData<-read.csv(filePath,header=TRUE)\n",
    "    fileData<-subset(fileData, type!=\"debug\" & !is.na(logger))\n",
    "}"
   ]
  },
  {
   "cell_type": "markdown",
   "id": "14fc331a",
   "metadata": {},
   "source": [
    "## Concatenate all files in a directory including sub directories into one dataframe and return it using a supplied read function (such as read.csv, read.csv2, or a custom reading function )"
   ]
  },
  {
   "cell_type": "code",
   "execution_count": 18,
   "id": "c4a132d7",
   "metadata": {},
   "outputs": [],
   "source": [
    "## Concatenate all files in a directory including sub directories into one dataframe and return it using a supplied read function (such as read.csv, read.csv2, or a custom reading function )\n",
    "# input: \"directory\" containing all files to be concatenated (will check sub directories),\n",
    "# \"readFn\" function to use for reading files,\n",
    "# \"filePattern\" regex? string to search for specific file names/types/etc,  ex \"*.csv$\"\n",
    "# \"minFileSize\" omit files under specified size in bytes, 0 bytes by default\n",
    "# output: dataframe of concatenated files\n",
    "concat_dirs<-function(directory=dataDirectory, readFn, filePattern, minFileSize=0){\n",
    "    # list all files following specific pattern in folders and subfolders\n",
    "    Files<-list.files(path=directory, recursive=TRUE, pattern=filePattern, full.names=TRUE)\n",
    "    \n",
    "    # subset files larger than minFileSize bytes\n",
    "    Files<-subset(Files, file.info(Files)[,1]>minFileSize)\n",
    "    \n",
    "    #read each file and output a single dataframe\n",
    "    data<-do.call(rbind, lapply(Files, readFn))\n",
    "    \n",
    "    print(\"Dataframe generated, manually process column types if necessary\")\n",
    "    return(data)\n",
    "}"
   ]
  },
  {
   "cell_type": "markdown",
   "id": "ea58f192",
   "metadata": {},
   "source": [
    "# 2. RRIV data specific functions"
   ]
  },
  {
   "cell_type": "code",
   "execution_count": null,
   "id": "7db5399e",
   "metadata": {},
   "outputs": [],
   "source": [
    "# 2. RRIV data specific functions"
   ]
  },
  {
   "cell_type": "markdown",
   "id": "f80241e8",
   "metadata": {},
   "source": [
    "## Custom column data type processing for RRIV csv data"
   ]
  },
  {
   "cell_type": "code",
   "execution_count": 21,
   "id": "f1f51d9b",
   "metadata": {},
   "outputs": [
    {
     "data": {
      "text/html": [
       "'type != \\'debug\\''"
      ],
      "text/latex": [
       "'type != \\textbackslash{}'debug\\textbackslash{}''"
      ],
      "text/markdown": [
       "'type != \\'debug\\''"
      ],
      "text/plain": [
       "[1] \"type != 'debug'\""
      ]
     },
     "metadata": {},
     "output_type": "display_data"
    },
    {
     "ename": "ERROR",
     "evalue": "Error in class(ff) <- \"formula\": attempt to set an attribute on NULL\n",
     "output_type": "error",
     "traceback": [
      "Error in class(ff) <- \"formula\": attempt to set an attribute on NULL\nTraceback:\n",
      "1. as.formula(test)",
      "2. formula(object, env = baseenv())",
      "3. formula.character(object, env = baseenv())"
     ]
    }
   ],
   "source": [
    "## Custom column data type processing for RRIV csv data\n",
    "process_rriv_columns<-function(df){\n",
    "    df$type<-as.factor(df$type)\n",
    "    df$site<-as.factor(df$site)\n",
    "    df$logger<-as.factor(df$logger)\n",
    "    df$deployment<-as.factor(df$deployment)\n",
    "    df$deployed_at<-as.integer(df$deployed_at)\n",
    "    df$uuid<-as.factor(df$uuid)\n",
    "    df$time.s<-as.numeric(df$time.s)\n",
    "    df$time.h<-lubridate::as_datetime(df$time.h)\n",
    "    \n",
    "    cols<-names(df)\n",
    "    if(\"measurementCycle\" %in% cols & \"burstCycle\" %in% cols){\n",
    "        df$measurementCycle<-as.numeric(df$measurementCycle)\n",
    "        df$burstCycle<-as.factor(df$burstCycle)\n",
    "    }\n",
    "    \n",
    "    ##hardcoded, but could be all columns between time.h and user_note? or measurementCycle when included\n",
    "    df$battery.V<-as.numeric(df$battery.V)\n",
    "    df$dht_C<-as.numeric(df$dht_C)\n",
    "    df$dht_RH<-as.numeric(df$dht_RH)\n",
    "    \n",
    "    if(\"atlas_CO2_ppm\" %in% cols){\n",
    "        df$atlas_CO2_ppm<-as.numeric(df$atlas_CO2_ppm)\n",
    "    }\n",
    "    \n",
    "    df$ch4rf_raw<-as.numeric(df$ch4rf_raw)\n",
    "    df$ch4rf_cal<-as.numeric(df$ch4rf_cal)\n",
    "    df$ch4_raw<-as.numeric(df$ch4_raw)\n",
    "    df$ch4_cal<-as.numeric(df$ch4_cal)\n",
    "    \n",
    "    return(df)\n",
    "}"
   ]
  },
  {
   "cell_type": "markdown",
   "id": "a68f2c3b",
   "metadata": {},
   "source": [
    "## Custom RRIV data parsing that created measurementCycle and burstCycle columns, before the columns were included in the RRIV firmware\n",
    "\n",
    "## Function that parses through the data and assigns a burst number and then counts each measurement in a burst. (Data will eventually have measurementCycle and burstCycle natively)"
   ]
  },
  {
   "cell_type": "code",
   "execution_count": null,
   "id": "d5099aa5",
   "metadata": {},
   "outputs": [],
   "source": [
    "## Custom RRIV data parsing that created measurementCycle and burstCycle columns, before the columns were included in the RRIV firmware\n",
    "\n",
    "## Function that parses through the data and assigns a burst number and then counts each measurement in a burst. (Data will eventually have measurementCycle and burstCycle natively)\n",
    "parse_data<-function(df,burst_interval_threshold,measure_cycle_size){\n",
    "    #check if measurementCycle and burstCycle already present in data:\n",
    "    cols<-names(df)\n",
    "    if(\"measurementCycle\" %in% cols & \"burstCycle\" %in% cols){\n",
    "        return(df)\n",
    "    }\n",
    "    \n",
    "    df$interval<-df$time.s-Lag(df$time.s,shift=1)\n",
    "\n",
    "    measurementCycle<-1\n",
    "    burstCycle<-1\n",
    "    reading<-1\n",
    "    df$measurementCycle<-1\n",
    "    df$burstCycle<-1\n",
    "    df$reading<-1\n",
    "    comp_rows<-nrow(df)\n",
    "    \n",
    "    for(i in 1:comp_rows){\n",
    "        if(!is.na(df$interval[i])){\n",
    "            if(df$interval[i]>burst_interval_threshold){\n",
    "                burstCycle<-burstCycle+1\n",
    "                reading<-1\n",
    "                df$burstCycle[i:comp_rows]<-burstCycle\n",
    "                df$reading[i]<-reading\n",
    "            }else{\n",
    "                df$reading[i]<-reading\n",
    "                reading<-reading+1\n",
    "            }\n",
    "            if(burstCycle == measure_cycle_size){\n",
    "                measurementCycle<-measurementCycle+1\n",
    "                df$measurementCycle[i:comp_rows]<-measurementCycle\n",
    "                burstCycle<-0\n",
    "            }            \n",
    "        }\n",
    "    }\n",
    "    df$burstCycle<-as.factor(df$burstCycle)\n",
    "#     df$measurementCycle<-as.factor(df$measurementCycle)\n",
    "    return(df)\n",
    "}"
   ]
  },
  {
   "cell_type": "markdown",
   "id": "deeeed24",
   "metadata": {},
   "source": [
    "## Function to process each logger individually using above function and output single dataframe"
   ]
  },
  {
   "cell_type": "code",
   "execution_count": null,
   "id": "aa821226",
   "metadata": {},
   "outputs": [],
   "source": [
    "## Function to process each logger individually using above function and output single dataframe\n",
    "parseIndividualLoggers<-function(df, ll=loggerList, lc=loggerCount){\n",
    "    loggerDataList<-vector(\"list\", lc) #empty list to hold temporary data frames\n",
    "    \n",
    "    #subset each logger's data and parse\n",
    "    for(i in 1:lc){\n",
    "        loggerDataList[[i]]<-parse_data(subset(df, logger==ll[i]), 30, 30)\n",
    "    }\n",
    "    return(bind_rows(loggerDataList))\n",
    "}"
   ]
  },
  {
   "cell_type": "markdown",
   "id": "95215e6e",
   "metadata": {},
   "source": [
    "## Function to calculate rolling CV for warm-up detection\n",
    "Starting with using the summary data for calculations"
   ]
  },
  {
   "cell_type": "code",
   "execution_count": null,
   "id": "2d64b4ff",
   "metadata": {},
   "outputs": [],
   "source": [
    "## Function to calculate rolling CV for warm-up detection\n",
    "# Starting with using the summary data for calculations\n",
    "# calculateCV<-function(processed_data, dataType, lc=loggerCount, ll=loggerList){\n",
    "#     temp_cv<-data.frame()\n",
    "#     calculated_cv_list<-vector(\"list\", lc)\n",
    "#     for(i in 1:lc){\n",
    "#         df<-subset(processed_data, logger==ll[i] & type==dataType)\n",
    "\n",
    "#         measurementCycles<-unique(df$measurementCycle)\n",
    "#         for(i in 1:length(measurementCycles)){\n",
    "#             temp<-subset(df,measurementCycle==measurementCycles[i])\n",
    "#             temp$roll_mean<-rollapply(data=temp$ch4_raw,width=4,align=c(\"right\"),FUN=mean,fill=NA)\n",
    "#             temp$roll_sd<-rollapply(data=temp$ch4_raw,width=4,align=c(\"right\"),FUN=sd,fill=NA)\n",
    "#             temp$roll_cv<-temp$roll_sd/temp$roll_mean #optionally multiply by 100 for %\n",
    "#             temp_cv<-bind_rows(temp_cv,temp)\n",
    "#         }\n",
    "#         calculated_cv_list[[i]]<-temp_cv\n",
    "#     }\n",
    "#     return(bind_rows(calculated_cv_list))\n",
    "# }"
   ]
  },
  {
   "cell_type": "code",
   "execution_count": null,
   "id": "b8b75ac8",
   "metadata": {},
   "outputs": [],
   "source": []
  },
  {
   "cell_type": "code",
   "execution_count": null,
   "id": "931595ad",
   "metadata": {},
   "outputs": [],
   "source": []
  },
  {
   "cell_type": "code",
   "execution_count": null,
   "id": "9e256122",
   "metadata": {},
   "outputs": [],
   "source": []
  },
  {
   "cell_type": "code",
   "execution_count": null,
   "id": "d5a389f9",
   "metadata": {},
   "outputs": [],
   "source": []
  },
  {
   "cell_type": "code",
   "execution_count": null,
   "id": "55d9bcc0",
   "metadata": {},
   "outputs": [],
   "source": []
  },
  {
   "cell_type": "code",
   "execution_count": null,
   "id": "1fd0670f",
   "metadata": {},
   "outputs": [],
   "source": []
  },
  {
   "cell_type": "code",
   "execution_count": null,
   "id": "8b464353",
   "metadata": {},
   "outputs": [],
   "source": []
  },
  {
   "cell_type": "markdown",
   "id": "d2dc7966",
   "metadata": {},
   "source": [
    "# 3. Plotting functions"
   ]
  },
  {
   "cell_type": "code",
   "execution_count": null,
   "id": "cb3b4808",
   "metadata": {},
   "outputs": [],
   "source": [
    "# 3. Plotting functions"
   ]
  },
  {
   "cell_type": "markdown",
   "id": "f2940fc5",
   "metadata": {},
   "source": [
    "## Function to create basic plots of burst vs raw methane reading colored by measurement cycle"
   ]
  },
  {
   "cell_type": "code",
   "execution_count": null,
   "id": "235e633f",
   "metadata": {},
   "outputs": [],
   "source": [
    "## Function to create basic plots of burst vs raw methane reading colored by measurement cycle\n",
    "# cycleVsCH4_plots<-function(processed_data, dataType, lc=loggerCount, ll=loggerList){\n",
    "#     plots<-vector(\"list\", lc)\n",
    "#     names(plots)<-ll\n",
    "#     for(i in 1:lc){\n",
    "#         data<-subset(processed_data, logger==ll[i] & type==dataType)\n",
    "\n",
    "#         plots[[i]]<-ggplot(data, aes(burstCycle, ch4_raw))+\n",
    "#             geom_point(aes(color=measurementCycle))+scale_color_viridis()+\n",
    "#             ggtitle(paste(\"Logger: \", ll[i], \"\\nData type: \", dataType))\n",
    "#     }\n",
    "#     return(plots)\n",
    "# }"
   ]
  },
  {
   "cell_type": "markdown",
   "id": "aff55b70",
   "metadata": {},
   "source": [
    "## Function to plot rolling cv vs burst cycle and colored by measurement cycle"
   ]
  },
  {
   "cell_type": "code",
   "execution_count": null,
   "id": "336737d9",
   "metadata": {},
   "outputs": [],
   "source": [
    "## Function to plot rolling cv vs burst cycle and colored by measurement cycle\n",
    "# rollCV_plots<-function(parseDataCV, ll=loggerList, lc=loggerCount){\n",
    "#     plots<-vector(\"list\", lc)\n",
    "#     names(plots)<-ll\n",
    "#     for(i in 1:lc){\n",
    "#         data<-subset(parseDataCV, logger==ll[i])\n",
    "#         plots[[i]]<-ggplot(data, aes(burstCycle, roll_cv))+\n",
    "#         geom_point(aes(color=as.integer(measurementCycle)))+\n",
    "#         scale_y_log10()+scale_color_viridis()+\n",
    "#         ggtitle(paste(\"Rolling CV for Logger: \",ll[i]))\n",
    "#     }\n",
    "#     return(plots)\n",
    "# }"
   ]
  },
  {
   "cell_type": "markdown",
   "id": "954404a5",
   "metadata": {},
   "source": [
    "## function that goes through each item in a variable dictionary and creates a basic plot of variable vs a time column, or just x vs y colored by logger/site"
   ]
  },
  {
   "cell_type": "code",
   "execution_count": null,
   "id": "c3c41171",
   "metadata": {},
   "outputs": [],
   "source": [
    "## function that goes through each item in a variable dictionary and creates a basic plot of variable vs a time column, or just x vs y colored by logger/site\n",
    "plot_Data_v_Time <-function(df, color=\"logger\", timeCol=\"time.h\", vd=variableDict, vk=variableKeys, vc=variableCount){\n",
    "  # initialize list to hold plots\n",
    "  DvT = vector('list', vc)\n",
    "  names(DvT) = names(vd)\n",
    "  \n",
    "  # plot each column vs time with all deployments into list\n",
    "  for ( i in 1:vc ){\n",
    "    DvT[[i]] = ggplot(data=df,aes_string(x=timeCol,y=vk[i],color=color),size=1)+\n",
    "      geom_point()+geom_line()+theme_classic(base_size=12)+\n",
    "      labs(x=\"Date\", y=vd[i], color=NULL)\n",
    "    # +\n",
    "    #   scale_color_manual(values=custom_colors2,na.translate=F)+\n",
    "    #   scale_x_datetime(date_labels=\"%m/%d %H\",breaks=scales::pretty_breaks(n=4),expand=c(0,60*5))\n",
    "  }\n",
    "  return(DvT)\n",
    "}"
   ]
  },
  {
   "cell_type": "markdown",
   "id": "b94498a0",
   "metadata": {},
   "source": [
    "## function that goes through and does each series of basic plots of variable vs time.h for each individual logger\n",
    "### TODO, allow for uuid/site instead of logger\n",
    "1. function can count unique uuid/site occurrences in df and iterate over that\n",
    "2. title can be column name? or added by user later, or generic \"RRIV:\""
   ]
  },
  {
   "cell_type": "code",
   "execution_count": null,
   "id": "0c112a13",
   "metadata": {},
   "outputs": [],
   "source": [
    "## function that goes through and does each series of basic plots of variable vs time.h for each individual logger\n",
    "### TODO, allow for uuid/site instead of logger\n",
    "# 1. function can count unique uuid/site occurrences in df and iterate over that\n",
    "# 2. title can be column name? or added by user later, or generic \"RRIV:\"\n",
    "plot_individual_logger_data_v_time <-function(df, timeCol=\"time.h\", vd=variableDict, vk=variableKeys, vc=variableCount,\n",
    "                                              ll=loggerList, lc=loggerCount){\n",
    "    ## list of lists, where list values are the names of columns and loggers for the deployment\n",
    "    output <- vector(\"list\", vc)\n",
    "    names(output) <- vk\n",
    "    \n",
    "    # initialize empty double list to hold plots\n",
    "    for(i in 1:vc){\n",
    "        output[[ vk[i] ]] <- vector(\"list\", lc)\n",
    "        names( output[[ vk[i] ]] ) <- loggerList\n",
    "    }\n",
    "    \n",
    "    # create plots at respective locations\n",
    "    for(i in 1:vc){\n",
    "        for(j in 1:lc){\n",
    "          output[[ vk[i] ]][[ ll[j] ]] = ggplot(data=subset(df, logger==ll[j]))+\n",
    "            geom_point(aes_string(x=timeCol,y=vk[i]),size=1)+theme_classic(base_size=12)+\n",
    "            ylab(vd[i])+xlab(\"Date\")+ggtitle(paste(\"Logger: \",ll[j],sep=\"\"))\n",
    "          # +\n",
    "          #   scale_color_manual(values=custom_colors2,na.translate=F)+\n",
    "          #   scale_x_datetime(date_labels=\"%m/%d %H\",breaks=scales::pretty_breaks(n=4),expand=c(0,60*120))\n",
    "        }\n",
    "    }\n",
    "    return(output)\n",
    "}"
   ]
  },
  {
   "cell_type": "code",
   "execution_count": null,
   "id": "3fc5d31a",
   "metadata": {},
   "outputs": [],
   "source": []
  },
  {
   "cell_type": "code",
   "execution_count": null,
   "id": "12ab63cb",
   "metadata": {},
   "outputs": [],
   "source": []
  },
  {
   "cell_type": "code",
   "execution_count": null,
   "id": "c7db9565",
   "metadata": {},
   "outputs": [],
   "source": []
  },
  {
   "cell_type": "code",
   "execution_count": null,
   "id": "c187b04e",
   "metadata": {},
   "outputs": [],
   "source": []
  },
  {
   "cell_type": "code",
   "execution_count": null,
   "id": "8b5fa02c",
   "metadata": {},
   "outputs": [],
   "source": []
  },
  {
   "cell_type": "code",
   "execution_count": null,
   "id": "ff6c811e",
   "metadata": {},
   "outputs": [],
   "source": []
  },
  {
   "cell_type": "code",
   "execution_count": null,
   "id": "f438e26c",
   "metadata": {},
   "outputs": [],
   "source": []
  },
  {
   "cell_type": "code",
   "execution_count": null,
   "id": "eaf7810e",
   "metadata": {},
   "outputs": [],
   "source": []
  },
  {
   "cell_type": "code",
   "execution_count": null,
   "id": "3773597c",
   "metadata": {},
   "outputs": [],
   "source": []
  },
  {
   "cell_type": "code",
   "execution_count": null,
   "id": "43ce16e7",
   "metadata": {},
   "outputs": [],
   "source": []
  },
  {
   "cell_type": "code",
   "execution_count": null,
   "id": "ff05e1c9",
   "metadata": {},
   "outputs": [],
   "source": []
  }
 ],
 "metadata": {
  "kernelspec": {
   "display_name": "R",
   "language": "R",
   "name": "ir"
  },
  "language_info": {
   "codemirror_mode": "r",
   "file_extension": ".r",
   "mimetype": "text/x-r-source",
   "name": "R",
   "pygments_lexer": "r",
   "version": "4.1.2"
  }
 },
 "nbformat": 4,
 "nbformat_minor": 5
}
